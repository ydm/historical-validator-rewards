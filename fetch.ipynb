{
 "cells": [
  {
   "cell_type": "code",
   "execution_count": 1,
   "id": "f07bd2d3-3d2e-4287-869a-beaee567a735",
   "metadata": {},
   "outputs": [],
   "source": [
    "import json\n",
    "import os\n",
    "import sys\n",
    "import time\n",
    "from itertools import groupby\n",
    "from typing import Any, List, Mapping, Optional, Union\n",
    "\n",
    "import requests"
   ]
  },
  {
   "cell_type": "code",
   "execution_count": 2,
   "id": "5bf155a4-7093-4f84-aa12-4ed383a3e375",
   "metadata": {},
   "outputs": [],
   "source": [
    "perror = lambda *a, **kw: print(*a, **kw, file=sys.stderr)\n",
    "\n",
    "\n",
    "def get(url: str, *keys: List[str]) -> Mapping[str, Any]:\n",
    "    '''\n",
    "    Raises:\n",
    "      - requests.JSONDecodeError if resp.ok, but content is unparseable.\n",
    "      - requests.HTTPError if not resp.ok.\n",
    "    '''\n",
    "    # Prepare headers.\n",
    "    headers = {'accept': 'application/json'}\n",
    "    apikey = os.environ.get('BEACONCHAIN_APIKEY')\n",
    "    if apikey:\n",
    "        headers['apikey'] = apikey\n",
    "    resp = requests.get(url, headers=headers)\n",
    "    if resp.ok:\n",
    "        ans = resp.json()\n",
    "        for k in keys:\n",
    "            ans = ans[k]\n",
    "        return ans\n",
    "    perror('Status code :', resp.status_code)\n",
    "    perror('Reason      :', resp.reason)\n",
    "    perror('Text        :', resp.text)\n",
    "    raise requests.HTTPError(resp.reason)"
   ]
  },
  {
   "cell_type": "code",
   "execution_count": 3,
   "id": "095f1d3c-2b07-49cd-bf5a-d00b2b64e291",
   "metadata": {},
   "outputs": [],
   "source": [
    "def history(pubkey: str, epoch: Optional[int] = None) -> Mapping[str, Any]:\n",
    "    epoch = '' if epoch is None else f'latest_epoch={epoch}&'\n",
    "    url = f'https://beaconcha.in/api/v1/validator/{pubkey}/balancehistory?{epoch}limit=1'\n",
    "    return get(url, 'data')"
   ]
  },
  {
   "cell_type": "code",
   "execution_count": 4,
   "id": "60e41ce7-f262-4a94-8654-4ed32abe5481",
   "metadata": {},
   "outputs": [],
   "source": [
    "def index(pubkey: str) -> int:\n",
    "    url = f'https://beaconcha.in/api/v1/validator/{pubkey}'\n",
    "    return get(url, 'data', 'validatorindex')"
   ]
  },
  {
   "cell_type": "code",
   "execution_count": 5,
   "id": "020cff74-5878-4074-9ca0-c9b070028574",
   "metadata": {},
   "outputs": [],
   "source": [
    "def performance(pubkey: str) -> Mapping[str, Any]:\n",
    "    url = f'https://beaconcha.in/api/v1/validator/{pubkey}/performance'\n",
    "    return get(url, 'data')"
   ]
  },
  {
   "cell_type": "code",
   "execution_count": 6,
   "id": "fe66b561-b026-4813-a7b0-eff4133117f2",
   "metadata": {},
   "outputs": [],
   "source": [
    "EEK = 2048\n",
    "STEP = EEK\n",
    "\n",
    "def fetch(validators):\n",
    "    pubkeys = list(validators.keys())\n",
    "    frames = {}\n",
    "    for epoch in range(STEP, 193000+1, STEP):\n",
    "        frames[epoch] = {}\n",
    "        for key, group in groupby(pubkeys, key=lambda k: pubkeys.index(k) // 64):\n",
    "            vs = ','.join(group)\n",
    "            time.sleep(6)  # The free plan is limited to 10 requests per minute.\n",
    "            data = history(vs, epoch)\n",
    "            for v in data:\n",
    "                index = v['validatorindex']\n",
    "                frames[epoch][index] = v\n",
    "    return frames"
   ]
  },
  {
   "cell_type": "code",
   "execution_count": 7,
   "id": "d227f3f5-b064-4182-927f-ce2d59823660",
   "metadata": {},
   "outputs": [
    {
     "name": "stdout",
     "output_type": "stream",
     "text": [
      "CPU times: user 13.3 s, sys: 497 ms, total: 13.8 s\n",
      "Wall time: 1h 1min 17s\n"
     ]
    }
   ],
   "source": [
    "%%time \n",
    "\n",
    "with open('validators.json', 'r', encoding='utf-8') as f:\n",
    "    validators = json.load(f)\n",
    "frames = fetch(validators)"
   ]
  },
  {
   "cell_type": "code",
   "execution_count": 12,
   "id": "55f5391a-cd68-4fc4-bbd7-896915fe7145",
   "metadata": {},
   "outputs": [],
   "source": [
    "with open('frames.json', 'w', encoding='utf-8') as f:\n",
    "    json.dump(frames, f)"
   ]
  }
 ],
 "metadata": {
  "kernelspec": {
   "display_name": "Python 3 (ipykernel)",
   "language": "python",
   "name": "python3"
  },
  "language_info": {
   "codemirror_mode": {
    "name": "ipython",
    "version": 3
   },
   "file_extension": ".py",
   "mimetype": "text/x-python",
   "name": "python",
   "nbconvert_exporter": "python",
   "pygments_lexer": "ipython3",
   "version": "3.10.10"
  }
 },
 "nbformat": 4,
 "nbformat_minor": 5
}
